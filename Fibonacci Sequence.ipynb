{
 "cells": [
  {
   "cell_type": "code",
   "execution_count": 10,
   "metadata": {},
   "outputs": [],
   "source": [
    "import numpy as np\n",
    "from numpy import linalg as la\n",
    "\n",
    "\n",
    "def fib(n):\n",
    "    if n == 0:\n",
    "        return 0\n",
    "    elif n == 1 :\n",
    "        return 1\n",
    "    else:\n",
    "        T = np.array([[0,1],[1,1]]) ## transformation matrix for the fibonacci sequence \n",
    "        U0 = np.array([0,1]).T ## the first 2 terms of the fibonacci sequence\n",
    "        \n",
    "        ##Diagnolising the transformation matrix in order to able to apply multiple times in a row easily \n",
    "        S = la.eig(T)[1]\n",
    "        S_inv = la.inv(S)\n",
    "        # transformation in eigenbasis =  transformation = streetching all vectors expressed in eigenbais = easy to compute \n",
    "        D = S_inv @ T @ S  \n",
    "        \n",
    "        ##New Transformation matrix for the n-th term\n",
    "        ## take a vector in normal plane ,transform it with s-inv to eigenbasis\n",
    "        ##apply streatching n times then transform it back to normal basis with S \n",
    "        T = S @ D ** (n-1) @ S_inv \n",
    "        \n",
    "        \n",
    "        Fn = (T @ U0)[1]\n",
    "        \n",
    "        return int(Fn)\n",
    "        "
   ]
  },
  {
   "cell_type": "code",
   "execution_count": 12,
   "metadata": {
    "scrolled": true
   },
   "outputs": [
    {
     "data": {
      "text/plain": [
       "17108476902341031930900872229799311823548885207520250059879218397271294133609445289648054929224955689334680998073906028330271631735954078631102159069869493824679624667027869177183344323198587677678797743665546357671574787423957052761591662008848484182450619678732146911660459105375449243451392"
      ]
     },
     "execution_count": 12,
     "metadata": {},
     "output_type": "execute_result"
    }
   ],
   "source": [
    "fib(1400)"
   ]
  },
  {
   "cell_type": "code",
   "execution_count": 14,
   "metadata": {},
   "outputs": [
    {
     "name": "stdout",
     "output_type": "stream",
     "text": [
      "Time:  0.00039590000000089276\n"
     ]
    }
   ],
   "source": [
    "#Check how much time does it take to the calculate the 1450th term of the Fibonacci Sequence\n",
    "import timeit\n",
    "\n",
    "start = timeit.default_timer()\n",
    "\n",
    "fib(1450)\n",
    "\n",
    "stop = timeit.default_timer()\n",
    "\n",
    "print('Time: ', stop - start) \n",
    "\n"
   ]
  },
  {
   "cell_type": "code",
   "execution_count": null,
   "metadata": {},
   "outputs": [],
   "source": []
  }
 ],
 "metadata": {
  "kernelspec": {
   "display_name": "Python 3",
   "language": "python",
   "name": "python3"
  },
  "language_info": {
   "codemirror_mode": {
    "name": "ipython",
    "version": 3
   },
   "file_extension": ".py",
   "mimetype": "text/x-python",
   "name": "python",
   "nbconvert_exporter": "python",
   "pygments_lexer": "ipython3",
   "version": "3.7.9"
  }
 },
 "nbformat": 4,
 "nbformat_minor": 4
}
